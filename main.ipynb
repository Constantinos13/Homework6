{
 "cells": [
  {
   "cell_type": "markdown",
   "metadata": {},
   "source": [
    "### Step 1: Initialize Spark Session and Load Data\n",
    "\n",
    "**Explanation:**\n",
    "This code block initializes a Spark session with the application name \"Flight Delay Prediction\". It then loads the data from `flights.csv` into a DataFrame `df`. This DataFrame automatically infers the schema of the CSV file based on its contents, which is important for ensuring that data types are correctly handled during processing. This step is crucial as it sets up the Spark environment and prepares the data for subsequent analysis and machine learning tasks."
   ]
  },
  {
   "cell_type": "code",
   "execution_count": 23,
   "metadata": {},
   "outputs": [
    {
     "name": "stderr",
     "output_type": "stream",
     "text": [
      "                                                                                \r"
     ]
    }
   ],
   "source": [
    "from pyspark.sql import SparkSession\n",
    "from pyspark.ml import Pipeline\n",
    "from pyspark.ml.feature import StringIndexer, VectorAssembler\n",
    "from pyspark.ml.classification import LogisticRegression\n",
    "from pyspark.ml.evaluation import BinaryClassificationEvaluator\n",
    "\n",
    "spark = SparkSession.builder \\\n",
    "    .appName(\"Flight Delay Prediction\") \\\n",
    "    .getOrCreate()\n",
    "\n",
    "# Load data\n",
    "df = spark.read.csv(\"flights.csv\", header=True, inferSchema=True)\n"
   ]
  },
  {
   "cell_type": "markdown",
   "metadata": {},
   "source": [
    "### Step 2: Data Cleaning\n",
    "\n",
    "\n",
    "**Explanation:**\n",
    "This step focuses on cleaning the data to ensure its quality for analysis and model training:\n",
    "- **Removing Missing Values:** Rows with missing values in 'DEPARTURE_DELAY' and 'SCHEDULED_DEPARTURE' are dropped. Missing values can lead to inaccurate predictions and analyses.\n",
    "- **Type Conversion:** The 'DEPARTURE_DELAY' column is cast to a float type. Ensuring that data types are correct is crucial for modeling, as it affects how operations are performed on the data (e.g., mathematical operations for model training)."
   ]
  },
  {
   "cell_type": "code",
   "execution_count": 24,
   "metadata": {},
   "outputs": [],
   "source": [
    "# Remove rows with missing values in critical columns\n",
    "df = df.dropna(subset=[\"DEPARTURE_DELAY\", \"SCHEDULED_DEPARTURE\"])\n",
    "\n",
    "# Convert necessary columns to proper formats (if not already correct)\n",
    "df = df.withColumn(\"DEPARTURE_DELAY\", df[\"DEPARTURE_DELAY\"].cast('float'))\n"
   ]
  },
  {
   "cell_type": "markdown",
   "metadata": {},
   "source": [
    "### Step 3: Feature Engineering and Data Transformation\n",
    "\n",
    "\n",
    "**Explanation:**\n",
    "- **Binary Label Creation:** This line adds a new column 'label' to the DataFrame, where flights delayed by more than 15 minutes are marked as 1 (delayed) and others as 0 (not delayed). This binary label is used as the target variable for the logistic regression model.\n",
    "- **Categorical Indexing:** The 'AIRLINE' and 'ORIGIN_AIRPORT' columns are treated as categorical variables. The `StringIndexer` converts these string values into numeric indices which are more suitable for modeling. A Spark `Pipeline` is used to streamline this transformation process. This step prepares the dataset by encoding categorical features, making it ready for use in machine learning algorithms."
   ]
  },
  {
   "cell_type": "code",
   "execution_count": 25,
   "metadata": {},
   "outputs": [
    {
     "name": "stderr",
     "output_type": "stream",
     "text": [
      "                                                                                \r"
     ]
    }
   ],
   "source": [
    "# Creating a binary label for delay\n",
    "df = df.withColumn(\"label\", (df[\"DEPARTURE_DELAY\"] > 15).cast(\"integer\"))\n",
    "\n",
    "# Indexing categorical columns\n",
    "indexers = [StringIndexer(inputCol=column, outputCol=column+\"_index\").fit(df) for column in [\"AIRLINE\", \"ORIGIN_AIRPORT\"]]\n",
    "pipeline = Pipeline(stages=indexers)\n",
    "df = pipeline.fit(df).transform(df)\n"
   ]
  },
  {
   "cell_type": "markdown",
   "metadata": {},
   "source": [
    "### Step 4: Assembling Features into a Single Vector\n",
    "\n",
    "**Explanation:**\n",
    "This step consolidates multiple feature columns into a single vector column named 'features' using the `VectorAssembler`. This transformation is critical for ML algorithms in Spark, which expect input data to be presented as a single features vector. The columns included in this vector are both numerical and categorical (already indexed), covering various aspects like time of flight and distance, which are relevant predictors for flight delays. This setup prepares the dataset for efficient machine learning processing."
   ]
  },
  {
   "cell_type": "code",
   "execution_count": 26,
   "metadata": {},
   "outputs": [],
   "source": [
    "assembler = VectorAssembler(\n",
    "    inputCols=[\"MONTH\", \"DAY_OF_WEEK\", \"AIRLINE_index\", \"ORIGIN_AIRPORT_index\", \"SCHEDULED_DEPARTURE\", \"DISTANCE\"],\n",
    "    outputCol=\"features\")\n",
    "df = assembler.transform(df)\n"
   ]
  },
  {
   "cell_type": "markdown",
   "metadata": {},
   "source": [
    "### Step 5: Model Training, Prediction, and Evaluation\n",
    "\n",
    "\n",
    "**Explanation:**\n",
    "- **Data Splitting:** The dataset is split into training (80%) and testing (20%) sets to evaluate the model's performance on unseen data.\n",
    "- **Model Training:** A logistic regression model is instantiated and fitted to the training data. This model will learn to predict whether a flight will be delayed based on the features provided.\n",
    "- **Model Prediction:** The trained model is used to make predictions on the test set.\n",
    "- **Model Evaluation:** The model's performance is evaluated using the Area Under the ROC Curve (AUC), a common metric for binary classification problems that measures the ability of the model to distinguish between classes (delayed and not delayed flights). Higher AUC values indicate a better performing model."
   ]
  },
  {
   "cell_type": "code",
   "execution_count": 27,
   "metadata": {},
   "outputs": [
    {
     "name": "stderr",
     "output_type": "stream",
     "text": [
      "                                                                                \r"
     ]
    },
    {
     "name": "stdout",
     "output_type": "stream",
     "text": [
      "Test Area Under ROC: 0.6334475072767852\n"
     ]
    }
   ],
   "source": [
    "# Split the data into training and test sets\n",
    "train_data, test_data = df.randomSplit([0.8, 0.2], seed=42)\n",
    "\n",
    "# Create the logistic regression model\n",
    "lr = LogisticRegression(featuresCol=\"features\", labelCol=\"label\")\n",
    "\n",
    "# Fit the model\n",
    "model = lr.fit(train_data)\n",
    "\n",
    "# Predictions\n",
    "predictions = model.transform(test_data)\n",
    "\n",
    "# Evaluate the model\n",
    "evaluator = BinaryClassificationEvaluator()\n",
    "print(\"Test Area Under ROC: \" + str(evaluator.evaluate(predictions, {evaluator.metricName: \"areaUnderROC\"})))\n"
   ]
  },
  {
   "cell_type": "markdown",
   "metadata": {},
   "source": [
    "### Step 6: Data Visualization - Average Flight Delay by Month\n",
    "\n",
    "\n",
    "**Explanation:**\n",
    "This code block visualizes the average flight delay by month:\n",
    "- **Data Aggregation:** The data is grouped by the 'MONTH' column, and the mean 'DEPARTURE_DELAY' is calculated for each month.\n",
    "- **Data Conversion:** The aggregated data is converted to a Pandas DataFrame to utilize Seaborn's plotting capabilities.\n",
    "- **Plotting:** A bar chart is created using Seaborn, displaying the average delay for each month. This visualization helps in understanding seasonal trends in flight delays, providing insights into months with higher delays which could be crucial for operational planning and customer service enhancements."
   ]
  },
  {
   "cell_type": "code",
   "execution_count": 28,
   "metadata": {},
   "outputs": [
    {
     "name": "stderr",
     "output_type": "stream",
     "text": [
      "                                                                                \r"
     ]
    },
    {
     "data": {
      "image/png": "[encoded data removed]",
      "text/plain": [
       "<Figure size 1000x600 with 1 Axes>"
      ]
     },
     "metadata": {},
     "output_type": "display_data"
    }
   ],
   "source": [
    "import seaborn as sns\n",
    "import matplotlib.pyplot as plt\n",
    "\n",
    "# Group by month and calculate average delay\n",
    "monthly_delays = df.groupBy(\"MONTH\").agg({'DEPARTURE_DELAY': 'mean'}).toPandas()\n",
    "monthly_delays = monthly_delays.sort_values(by='MONTH')\n",
    "\n",
    "# Plotting\n",
    "plt.figure(figsize=(10, 6))\n",
    "sns.barplot(x='MONTH', y='avg(DEPARTURE_DELAY)', data=monthly_delays)\n",
    "plt.title('Average Flight Delay by Month')\n",
    "plt.xlabel('Month')\n",
    "plt.ylabel('Average Delay (minutes)')\n",
    "plt.show()\n"
   ]
  },
  {
   "cell_type": "markdown",
   "metadata": {},
   "source": [
    "### Step 7: Data Visualization - Average Flight Delay by Airline\n",
    "\n",
    "\n",
    "**Explanation:**\n",
    "This code visualizes the average delays across different airlines:\n",
    "- **Data Aggregation:** The DataFrame is grouped by 'AIRLINE', calculating the mean 'DEPARTURE_DELAY' for each airline, which helps identify which airlines frequently experience delays.\n",
    "- **Data Conversion:** The results are converted into a Pandas DataFrame for better handling by plotting libraries.\n",
    "- **Plotting:** A bar chart illustrates the average delays by airline, using Seaborn for visually appealing and informative graphics. This can highlight performance differences between airlines, useful for operational insights and consumer information."
   ]
  },
  {
   "cell_type": "code",
   "execution_count": 29,
   "metadata": {},
   "outputs": [
    {
     "name": "stderr",
     "output_type": "stream",
     "text": [
      "                                                                                \r"
     ]
    },
    {
     "data": {
      "image/png": "[encoded data removed]",
      "text/plain": [
       "<Figure size 1200x800 with 1 Axes>"
      ]
     },
     "metadata": {},
     "output_type": "display_data"
    }
   ],
   "source": [
    "import seaborn as sns\n",
    "import matplotlib.pyplot as plt\n",
    "\n",
    "# Convert to Pandas DataFrame for visualization\n",
    "airline_delays = df.groupBy(\"AIRLINE\").agg({'DEPARTURE_DELAY': 'mean'}).toPandas()\n",
    "airline_delays = airline_delays.sort_values(by='avg(DEPARTURE_DELAY)')\n",
    "\n",
    "# Plotting\n",
    "plt.figure(figsize=(12, 8))\n",
    "sns.barplot(x='AIRLINE', y='avg(DEPARTURE_DELAY)', data=airline_delays)\n",
    "plt.title('Average Flight Delay by Airline')\n",
    "plt.xlabel('Airline')\n",
    "plt.ylabel('Average Delay (minutes)')\n",
    "plt.xticks(rotation=45)\n",
    "plt.show()\n"
   ]
  },
  {
   "cell_type": "markdown",
   "metadata": {},
   "source": [
    "### Step 8: Model Evaluation and Timing\n",
    "\n",
    "**Explanation:**\n",
    "This step measures the performance of the logistic regression model across several metrics, crucial for understanding the effectiveness of the model:\n",
    "- **ROC AUC:** Indicates the model's ability to discriminate between classes.\n",
    "- **Accuracy, Precision, Recall, F1-Score:** These metrics provide a comprehensive view of the model's performance, especially useful when dealing with imbalanced datasets.\n",
    "- **Timing:** Measures the total time taken for evaluation, providing insight into the computational efficiency of the model within the Spark environment."
   ]
  },
  {
   "cell_type": "code",
   "execution_count": 30,
   "metadata": {},
   "outputs": [
    {
     "name": "stderr",
     "output_type": "stream",
     "text": [
      "                                                                                \r"
     ]
    },
    {
     "name": "stdout",
     "output_type": "stream",
     "text": [
      "Area Under ROC: 0.6334461323380783\n"
     ]
    },
    {
     "name": "stderr",
     "output_type": "stream",
     "text": [
      "[Stage 126:>                                                      (0 + 12) / 12]\r"
     ]
    },
    {
     "name": "stdout",
     "output_type": "stream",
     "text": [
      "Accuracy: 0.821874323767774\n",
      "Precision: 0.821874323767774\n",
      "Recall: 1.0\n",
      "F1-Score: 0.7415192093731222\n",
      "Time taken: 17.60273790359497 seconds\n"
     ]
    },
    {
     "name": "stderr",
     "output_type": "stream",
     "text": [
      "                                                                                \r"
     ]
    }
   ],
   "source": [
    "from pyspark.ml.evaluation import BinaryClassificationEvaluator, MulticlassClassificationEvaluator\n",
    "import time\n",
    "\n",
    "start_time = time.time()\n",
    "# Area Under ROC\n",
    "evaluator_roc = BinaryClassificationEvaluator(metricName='areaUnderROC')\n",
    "auc = evaluator_roc.evaluate(predictions)\n",
    "print(f\"Area Under ROC: {auc}\")\n",
    "\n",
    "# Accuracy, Precision, Recall, and F1-Score\n",
    "evaluator_multi = MulticlassClassificationEvaluator(labelCol=\"label\", predictionCol=\"prediction\")\n",
    "accuracy = evaluator_multi.evaluate(predictions, {evaluator_multi.metricName: \"accuracy\"})\n",
    "precision = evaluator_multi.evaluate(predictions, {evaluator_multi.metricName: \"precisionByLabel\"})\n",
    "recall = evaluator_multi.evaluate(predictions, {evaluator_multi.metricName: \"recallByLabel\"})\n",
    "f1 = evaluator_multi.evaluate(predictions, {evaluator_multi.metricName: \"f1\"})\n",
    "end_time_spark = time.time()\n",
    "\n",
    "print(f\"Accuracy: {accuracy}\")\n",
    "print(f\"Precision: {precision}\")\n",
    "print(f\"Recall: {recall}\")\n",
    "print(f\"F1-Score: {f1}\")\n",
    "print(f\"Time taken: {end_time_spark - start_time} seconds\")\n"
   ]
  },
  {
   "cell_type": "markdown",
   "metadata": {},
   "source": [
    "### Step 9: Single-Threaded Application - Model Training and Evaluation\n",
    "\n",
    "\n",
    "**Explanation:**\n",
    "This code block represents the full process of a single-threaded Python application using pandas and scikit-learn to handle the flight delays dataset:\n",
    "- **Data Loading and Preprocessing:** Reading the dataset, cleaning missing data, and setting up a binary target variable.\n",
    "- **Feature Selection:** Using only relevant features for the logistic regression.\n",
    "- **Model Training and Prediction:** Logistic regression model training on the training set and making predictions on the test set.\n",
    "- **Evaluation:** Calculating accuracy and ROC AUC to assess the model performance.\n",
    "- **Timing:** Capturing the total execution time from start to finish, allowing for performance comparison with the Spark implementation."
   ]
  },
  {
   "cell_type": "code",
   "execution_count": 31,
   "metadata": {},
   "outputs": [
    {
     "name": "stderr",
     "output_type": "stream",
     "text": [
      "/var/folders/v2/hp2thg1j43z__6fxrg793_qm0000gn/T/ipykernel_5753/288835389.py:11: DtypeWarning: Columns (7,8) have mixed types. Specify dtype option on import or set low_memory=False.\n",
      "  data = pd.read_csv('flights.csv')\n"
     ]
    },
    {
     "name": "stdout",
     "output_type": "stream",
     "text": [
      "Execution Time: 14.455505847930908s\n",
      "Accuracy: 0.8226543844072751\n",
      "ROC AUC: 0.5\n"
     ]
    }
   ],
   "source": [
    "import pandas as pd\n",
    "from sklearn.model_selection import train_test_split\n",
    "from sklearn.linear_model import LogisticRegression\n",
    "from sklearn.metrics import accuracy_score, roc_auc_score\n",
    "import time\n",
    "\n",
    "# Start the timer\n",
    "start_time = time.time()\n",
    "\n",
    "# Load the data\n",
    "data = pd.read_csv('flights.csv')\n",
    "\n",
    "# Data cleaning and preprocessing as per the steps described previously\n",
    "data = data.dropna(subset=['DEPARTURE_DELAY'])\n",
    "data['label'] = (data['DEPARTURE_DELAY'] > 15).astype(int)\n",
    "\n",
    "# Feature engineering\n",
    "features = data[['MONTH', 'DAY_OF_WEEK', 'SCHEDULED_DEPARTURE', 'DISTANCE']]\n",
    "target = data['label']\n",
    "\n",
    "# Split the data\n",
    "X_train, X_test, y_train, y_test = train_test_split(features, target, test_size=0.2, random_state=42)\n",
    "\n",
    "# Train the model\n",
    "model = LogisticRegression()\n",
    "model.fit(X_train, y_train)\n",
    "\n",
    "# Predictions and evaluations\n",
    "predictions = model.predict(X_test)\n",
    "accuracy = accuracy_score(y_test, predictions)\n",
    "roc_auc = roc_auc_score(y_test, predictions)\n",
    "\n",
    "# End the timer\n",
    "end_time = time.time()\n",
    "execution_time = end_time - start_time\n",
    "\n",
    "print(f\"Execution Time: {execution_time}s\")\n",
    "print(f\"Accuracy: {accuracy}\")\n",
    "print(f\"ROC AUC: {roc_auc}\")\n"
   ]
  },
  {
   "cell_type": "markdown",
   "metadata": {},
   "source": [
    "\n",
    "### Performance Metrics\n",
    "- **Spark**:\n",
    "  - **Area Under ROC:** 0.633\n",
    "  - **Accuracy:** 0.822\n",
    "  - **Precision:** 0.822\n",
    "  - **Recall:** 1.0\n",
    "  - **F1-Score:** 0.742\n",
    "  - **Execution Time:** 17.6 seconds\n",
    "\n",
    "- **Pandas**:\n",
    "  - **Execution Time:** 14.5 seconds\n",
    "  - **Accuracy:** 0.823\n",
    "  - **ROC AUC:** 0.5\n",
    "\n",
    "### Analysis\n",
    "- **Execution Time**: Spark is slightly slower than Pandas. This might be due to Spark's overhead for managing distributed computing tasks, even if the dataset doesn't fully require distributed processing capabilities.\n",
    "- **Accuracy and Precision**: Both models show similar accuracy and precision. However, the results are quite close, which indicates that for this specific task and dataset size, both frameworks perform comparably in terms of accuracy.\n",
    "- **Recall and F1-Score**: Spark's recall is 1.0, suggesting it predicted all true positives correctly but may have many false positives (precision isn't perfect). This is reflected in the F1-score, which balances precision and recall and is lower than the accuracy.\n",
    "- **ROC AUC**: The AUC for Spark is significantly higher than for Pandas, suggesting that Spark's model has a better measure of separability between classes. The low AUC for Pandas indicates poor model performance in distinguishing between classes.\n",
    "  \n",
    "### Conclusion\n",
    "Spark shows a balanced performance in class discrimination but with a time penalty due to its distributed nature. The Pandas implementation, while faster, fails to effectively differentiate between classes, as indicated by the low ROC AUC value. This difference in ROC AUC might stem from differences in the implementation of the logistic regression model between the two platforms, or it might suggest a need to adjust model parameters or preprocessing steps in the Pandas implementation."
   ]
  }
 ],
 "metadata": {
  "kernelspec": {
   "display_name": "Python 3",
   "language": "python",
   "name": "python3"
  },
  "language_info": {
   "codemirror_mode": {
    "name": "ipython",
    "version": 3
   },
   "file_extension": ".py",
   "mimetype": "text/x-python",
   "name": "python",
   "nbconvert_exporter": "python",
   "pygments_lexer": "ipython3",
   "version": "3.11.9"
  }
 },
 "nbformat": 4,
 "nbformat_minor": 2
}
